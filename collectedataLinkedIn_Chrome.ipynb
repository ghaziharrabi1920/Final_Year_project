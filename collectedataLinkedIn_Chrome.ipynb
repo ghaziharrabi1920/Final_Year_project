{
 "cells": [
  {
   "cell_type": "code",
   "execution_count": 1,
   "metadata": {},
   "outputs": [],
   "source": [
    "from selenium import webdriver\n",
    "from selenium.webdriver.common.keys import Keys\n",
    "from selenium.webdriver.support import expected_conditions as EC\n",
    "from selenium.webdriver.common.by import By\n",
    "from selenium.webdriver.support.wait import WebDriverWait\n",
    "import time\n",
    "from bs4 import BeautifulSoup\n",
    "import json"
   ]
  },
  {
   "cell_type": "markdown",
   "metadata": {},
   "source": [
    "## Chrome Navigator"
   ]
  },
  {
   "cell_type": "code",
   "execution_count": 2,
   "metadata": {
    "scrolled": false
   },
   "outputs": [
    {
     "name": "stderr",
     "output_type": "stream",
     "text": [
      "<ipython-input-2-09db3160241c>:4: DeprecationWarning: use options instead of chrome_options\n",
      "  driver = webdriver.Chrome('C:\\Program Files (x86)\\chromedriver.exe', chrome_options=chrome_options)\n"
     ]
    }
   ],
   "source": [
    "chrome_options = webdriver.ChromeOptions()\n",
    "prefs = {\"profile.default_content_setting_values.notifications\" : 2}\n",
    "chrome_options.add_experimental_option(\"prefs\",prefs)\n",
    "driver = webdriver.Chrome('C:\\Program Files (x86)\\chromedriver.exe', chrome_options=chrome_options)\n",
    "driver.maximize_window()\n",
    "driver.get(\"https://www.linkedin.com/login/fr?fromSignIn=true&trk=guest_homepage-basic_nav-header-signin\")\n",
    "\n",
    "username = WebDriverWait(driver, 10).until(EC.element_to_be_clickable((By.CSS_SELECTOR, \"input[name='session_key']\")))\n",
    "password = WebDriverWait(driver, 10).until(EC.element_to_be_clickable((By.CSS_SELECTOR, \"input[name='session_password']\")))\n",
    "\n",
    "username.clear()\n",
    "username.send_keys(\"\")\n",
    "password.clear()\n",
    "password.send_keys(\"\")\n",
    "\n",
    "button = WebDriverWait(driver, 2).until(EC.element_to_be_clickable((By.CSS_SELECTOR, \"button[type='submit']\"))).click()"
   ]
  },
  {
   "cell_type": "markdown",
   "metadata": {},
   "source": [
    "## Scroll Down To Skills Function"
   ]
  },
  {
   "cell_type": "code",
   "execution_count": 3,
   "metadata": {},
   "outputs": [],
   "source": [
    "def scrollDownToSkills() :\n",
    "    founded = False\n",
    "    for scrol in range(100,5000,100):\n",
    "        while(founded == False) :\n",
    "            try :\n",
    "\n",
    "                driver.execute_script(f\"window.scrollTo(0,{scrol})\")\n",
    "                time.sleep(1)\n",
    "                driver.find_element_by_xpath(\"//button[@class='pv-profile-section__card-action-bar pv-skills-section__additional-skills artdeco-container-card-action-bar artdeco-button artdeco-button--tertiary artdeco-button--3 artdeco-button--fluid artdeco-button--muted']\").click()\n",
    "                founded = True\n",
    "                break\n",
    "            except Exception as e:    \n",
    "                founded = False\n",
    "                break"
   ]
  },
  {
   "cell_type": "markdown",
   "metadata": {},
   "source": [
    "## Get Relation"
   ]
  },
  {
   "cell_type": "code",
   "execution_count": 4,
   "metadata": {},
   "outputs": [],
   "source": [
    "def getRelation():\n",
    "    try :\n",
    "        src = driver.page_source\n",
    "        soup = BeautifulSoup(src, features=\"html5lib\")\n",
    "        r = soup.findAll(class_='pv-top-card--list pv-top-card--list-bullet display-flex pb1')\n",
    "        return r[0].text.strip('\\n ').split('\\xa0')[0]\n",
    "    except Exception as e: \n",
    "        print('Relation not found !')\n",
    "        return 0"
   ]
  },
  {
   "cell_type": "markdown",
   "metadata": {},
   "source": [
    "## Get Experience"
   ]
  },
  {
   "cell_type": "code",
   "execution_count": 5,
   "metadata": {},
   "outputs": [],
   "source": [
    "def getLastExperienceDate():\n",
    "    try :\n",
    "        src = driver.page_source\n",
    "        soup = BeautifulSoup(src, features=\"html5lib\")\n",
    "        r = soup.findAll(class_='pv-entity__summary-info pv-entity__summary-info--background-section')\n",
    "        x = soup.findAll(class_=\"pv-entity__secondary-title t-14 t-black t-normal\")\n",
    "        last_exp = x[0].text.strip('\\n ').split('\\n')[0]\n",
    "        y = soup.findAll(class_='pv-entity__date-range t-14 t-black--light t-normal')\n",
    "        date = y[0].text.strip(' \\n ').split('\\n')[1].strip(' ')\n",
    "        return (last_exp, date)\n",
    "    \n",
    "    except Exception as e: \n",
    "        print('Experience not found')\n",
    "        return (\"No experience\", 0)\n"
   ]
  },
  {
   "cell_type": "markdown",
   "metadata": {},
   "source": [
    "## Get Formation"
   ]
  },
  {
   "cell_type": "code",
   "execution_count": 6,
   "metadata": {},
   "outputs": [],
   "source": [
    "def getFormation() :\n",
    "    src = driver.page_source\n",
    "    soup = BeautifulSoup(src, features=\"html5lib\")\n",
    "    formations = soup.findAll(class_='pv-entity__school-name t-16 t-black t-bold')\n",
    "    return formations[0].text\n"
   ]
  },
  {
   "cell_type": "code",
   "execution_count": 10,
   "metadata": {},
   "outputs": [],
   "source": [
    "def mainFunction ():\n",
    "\n",
    "    linksFile = open(\"links.txt\", 'r', encoding='utf-8')\n",
    "    listofProfiles = []\n",
    "\n",
    "    for line in linksFile.readlines():\n",
    "        try:\n",
    "\n",
    "            profileDict = {}\n",
    "            Skills = []\n",
    "            link = line[:-1]\n",
    "            driver.get(link)\n",
    "            time.sleep(5)\n",
    "\n",
    "            #Profile_Name\n",
    "            Profile_Name = driver.find_element_by_xpath(\"//h1[@class='text-heading-xlarge inline t-24 v-align-middle break-words']\").text\n",
    "\n",
    "            #Profile_Tite\n",
    "            Profiltitle = driver.find_element_by_xpath(\"//div[@class='text-body-medium break-words']\").text\n",
    "\n",
    "            #Relation\n",
    "            Relation = getRelation()\n",
    "\n",
    "            #Pays_Name\n",
    "            Pays = driver.find_element_by_xpath(\"//span[@class='text-body-small inline t-black--light break-words']\").text        \n",
    "\n",
    "            scrollDownSkills()\n",
    "            time.sleep(1)\n",
    "\n",
    "            #Experience with Date\n",
    "            last_exp, Date = getLastExperienceDate()\n",
    "\n",
    "            #Formation\n",
    "            Formation = getFormation()\n",
    "\n",
    "            #Skills_Section\n",
    "            src = driver.page_source\n",
    "            soup = BeautifulSoup(src, features=\"html5lib\")\n",
    "            competences = soup.findAll(class_='pv-skill-category-entity__name-text t-16 t-black t-bold')\n",
    "\n",
    "            for comp in competences:\n",
    "                Skills.append(comp.text.strip('\\n '))\n",
    "\n",
    "            profileDict[\"Profile Name\"] = Profile_Name\n",
    "            profileDict[\"Profile Title\"] = Profiltitle\n",
    "            profileDict[\"Relation\"] = Relation\n",
    "            profileDict[\"Pays\"] = Pays\n",
    "            profileDict[\"Last Experience\"] = last_exp\n",
    "            profileDict[\"Date\"] = Date\n",
    "            profileDict[\"Formation\"] = Formation\n",
    "            profileDict[\"Skills\"] = Skills\n",
    "\n",
    "            listofProfiles.append(profileDict)\n",
    "\n",
    "        except Exception as e:\n",
    "            print (\"Erreur\",e)\n",
    "            links_e = open('links_error.txt', 'a+')\n",
    "            links_e.write(link)\n",
    "            links_e.write('\\n')\n",
    "            continue\n",
    "\n",
    "    linksFile.close()\n",
    "    with open('dataset_linkedin.json', 'w+', encoding='utf-8') as json_file:\n",
    "        json.dump(listofProfiles, json_file)\n"
   ]
  }
 ],
 "metadata": {
  "kernelspec": {
   "display_name": "Python 3",
   "language": "python",
   "name": "python3"
  },
  "language_info": {
   "codemirror_mode": {
    "name": "ipython",
    "version": 3
   },
   "file_extension": ".py",
   "mimetype": "text/x-python",
   "name": "python",
   "nbconvert_exporter": "python",
   "pygments_lexer": "ipython3",
   "version": "3.8.5"
  }
 },
 "nbformat": 4,
 "nbformat_minor": 4
}
